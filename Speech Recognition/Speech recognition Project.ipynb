{
 "cells": [
  {
   "cell_type": "code",
   "execution_count": 3,
   "id": "246a5ead",
   "metadata": {},
   "outputs": [
    {
     "name": "stdout",
     "output_type": "stream",
     "text": [
      "Collecting pyaudio\n",
      "  Downloading PyAudio-0.2.14-cp39-cp39-win_amd64.whl (164 kB)\n",
      "     -------------------------------------- 164.1/164.1 kB 1.4 MB/s eta 0:00:00\n",
      "Installing collected packages: pyaudio\n",
      "Successfully installed pyaudio-0.2.14\n"
     ]
    },
    {
     "name": "stderr",
     "output_type": "stream",
     "text": [
      "WARNING: Ignoring invalid distribution -tatsmodels (c:\\users\\elcot\\anaconda4\\lib\\site-packages)\n",
      "WARNING: Ignoring invalid distribution -orch (c:\\users\\elcot\\anaconda4\\lib\\site-packages)\n",
      "WARNING: Ignoring invalid distribution -tatsmodels (c:\\users\\elcot\\anaconda4\\lib\\site-packages)\n",
      "WARNING: Ignoring invalid distribution -orch (c:\\users\\elcot\\anaconda4\\lib\\site-packages)\n",
      "WARNING: Ignoring invalid distribution -tatsmodels (c:\\users\\elcot\\anaconda4\\lib\\site-packages)\n",
      "WARNING: Ignoring invalid distribution -orch (c:\\users\\elcot\\anaconda4\\lib\\site-packages)\n",
      "WARNING: Ignoring invalid distribution -tatsmodels (c:\\users\\elcot\\anaconda4\\lib\\site-packages)\n",
      "WARNING: Ignoring invalid distribution -orch (c:\\users\\elcot\\anaconda4\\lib\\site-packages)\n",
      "WARNING: Ignoring invalid distribution -tatsmodels (c:\\users\\elcot\\anaconda4\\lib\\site-packages)\n",
      "WARNING: Ignoring invalid distribution -orch (c:\\users\\elcot\\anaconda4\\lib\\site-packages)\n",
      "WARNING: Ignoring invalid distribution -tatsmodels (c:\\users\\elcot\\anaconda4\\lib\\site-packages)\n",
      "WARNING: Ignoring invalid distribution -orch (c:\\users\\elcot\\anaconda4\\lib\\site-packages)\n",
      "WARNING: Ignoring invalid distribution -tatsmodels (c:\\users\\elcot\\anaconda4\\lib\\site-packages)\n",
      "WARNING: Ignoring invalid distribution -orch (c:\\users\\elcot\\anaconda4\\lib\\site-packages)\n"
     ]
    }
   ],
   "source": [
    "!pip install pyaudio\n"
   ]
  },
  {
   "cell_type": "code",
   "execution_count": 22,
   "id": "204a531b",
   "metadata": {},
   "outputs": [],
   "source": [
    "import speech_recognition\n",
    "import pyttsx3\n",
    "import webbrowser"
   ]
  },
  {
   "cell_type": "code",
   "execution_count": null,
   "id": "9aa62776",
   "metadata": {},
   "outputs": [],
   "source": [
    "#speech recognition-speech to speech"
   ]
  },
  {
   "cell_type": "code",
   "execution_count": 25,
   "id": "f48df595",
   "metadata": {},
   "outputs": [],
   "source": [
    "def speaknow(command):\n",
    "    voice=pyttsx3.init()\n",
    "    voice.say(command)\n",
    "    voice.runAndWait()"
   ]
  },
  {
   "cell_type": "code",
   "execution_count": 26,
   "id": "ebf5aaaf",
   "metadata": {},
   "outputs": [
    {
     "name": "stdout",
     "output_type": "stream",
     "text": [
      " Silence Please\n",
      "Speak now Please.....\n",
      " Did you say :-i love you very much\n"
     ]
    }
   ],
   "source": [
    "sr=speech_recognition.Recognizer()\n",
    "\n",
    "\n",
    "with speech_recognition.Microphone() as source2:\n",
    "    \n",
    "    print(\" Silence Please\")\n",
    "    \n",
    "    sr.adjust_for_ambient_noise(source2,duration=2)\n",
    "    \n",
    "    print(\"Speak now Please.....\")\n",
    "    \n",
    "    audio2=sr.listen(source2)\n",
    "    \n",
    "    \n",
    "    textt=sr.recognize_google(audio2)\n",
    "    textt=textt.lower()\n",
    "    \n",
    "    print(\" Did you say :-\" + textt)\n",
    "    \n",
    "    speaknow(textt)"
   ]
  },
  {
   "cell_type": "code",
   "execution_count": null,
   "id": "61754239",
   "metadata": {},
   "outputs": [],
   "source": []
  },
  {
   "cell_type": "code",
   "execution_count": null,
   "id": "b08d7f12",
   "metadata": {},
   "outputs": [],
   "source": [
    "#Speech Recognition speech to text"
   ]
  },
  {
   "cell_type": "code",
   "execution_count": 28,
   "id": "fe2b34f5",
   "metadata": {},
   "outputs": [
    {
     "name": "stdout",
     "output_type": "stream",
     "text": [
      " Silence Please\n",
      "Speak now Please.....\n",
      " Did you say :-i love you too\n"
     ]
    }
   ],
   "source": [
    "sr=speech_recognition.Recognizer()\n",
    "\n",
    "\n",
    "with speech_recognition.Microphone() as source2:\n",
    "    \n",
    "    print(\" Silence Please\")\n",
    "    \n",
    "    sr.adjust_for_ambient_noise(source2,duration=2)\n",
    "    \n",
    "    print(\"Speak now Please.....\")\n",
    "    \n",
    "    audio2=sr.listen(source2)\n",
    "    \n",
    "    \n",
    "    textt=sr.recognize_google(audio2)\n",
    "    textt=textt.lower()\n",
    "    \n",
    "    print(\" Did you say :-\" + textt)\n",
    "           "
   ]
  },
  {
   "cell_type": "code",
   "execution_count": null,
   "id": "c6c7ea2f",
   "metadata": {},
   "outputs": [],
   "source": []
  },
  {
   "cell_type": "code",
   "execution_count": null,
   "id": "29030723",
   "metadata": {},
   "outputs": [],
   "source": []
  },
  {
   "cell_type": "code",
   "execution_count": 13,
   "id": "dea03f12",
   "metadata": {},
   "outputs": [],
   "source": [
    "## using Speech to open web application "
   ]
  },
  {
   "cell_type": "code",
   "execution_count": 19,
   "id": "5764f6a3",
   "metadata": {},
   "outputs": [
    {
     "name": "stdout",
     "output_type": "stream",
     "text": [
      "please say something to open.......\n",
      "Hearing......\n",
      "You asked to open :  www.youtube.com\n"
     ]
    }
   ],
   "source": [
    "if __name__ == \"__main__\":\n",
    "    path=\"C:/Program Files (x86)/Microsoft/Edge/Application/msedge.exe %s\"\n",
    "    \n",
    "    sr=speech_recognition.Recognizer()\n",
    "    \n",
    "    with speech_recognition.Microphone() as source:\n",
    "        \n",
    "        sr.adjust_for_ambient_noise(source)\n",
    "        \n",
    "        print(\"please say something to open.......\")\n",
    "        \n",
    "        audio=sr.listen(source)\n",
    "        \n",
    "        print(\"Hearing......\")\n",
    "        \n",
    "        try:\n",
    "            destination=sr.recognize_google(audio)\n",
    "            \n",
    "            print(\"You asked to open :  \"+destination)\n",
    "            \n",
    "            webbrowser.get(path).open(destination)\n",
    "            \n",
    "        except Exception as e:\n",
    "            \n",
    "            print(\"error : \"+ str(e))       "
   ]
  },
  {
   "cell_type": "code",
   "execution_count": null,
   "id": "49bb8407",
   "metadata": {},
   "outputs": [],
   "source": []
  }
 ],
 "metadata": {
  "kernelspec": {
   "display_name": "Python 3 (ipykernel)",
   "language": "python",
   "name": "python3"
  },
  "language_info": {
   "codemirror_mode": {
    "name": "ipython",
    "version": 3
   },
   "file_extension": ".py",
   "mimetype": "text/x-python",
   "name": "python",
   "nbconvert_exporter": "python",
   "pygments_lexer": "ipython3",
   "version": "3.9.13"
  }
 },
 "nbformat": 4,
 "nbformat_minor": 5
}
