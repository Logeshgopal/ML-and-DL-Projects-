{
 "cells": [
  {
   "cell_type": "markdown",
   "metadata": {
    "id": "MbVu2eACx_Np"
   },
   "source": [
    "### Prerequisites for Python Speech Recognition"
   ]
  },
  {
   "cell_type": "markdown",
   "metadata": {
    "id": "2PBlV7a4x_Nr"
   },
   "source": [
    "You can use pip to install this-\n",
    "\n",
    "! pip install SpeechRecognition"
   ]
  },
  {
   "cell_type": "code",
   "execution_count": 1,
   "metadata": {
    "colab": {
     "base_uri": "https://localhost:8080/"
    },
    "id": "b69yxuW_x_Nr",
    "outputId": "7a7f625f-f62c-4efa-b2c4-6ef9db9927a6"
   },
   "outputs": [
    {
     "name": "stdout",
     "output_type": "stream",
     "text": [
      "Looking in indexes: https://pypi.org/simple, https://us-python.pkg.dev/colab-wheels/public/simple/\n",
      "Collecting SpeechRecognition\n",
      "  Downloading SpeechRecognition-3.10.0-py2.py3-none-any.whl (32.8 MB)\n",
      "\u001b[2K     \u001b[90m━━━━━━━━━━━━━━━━━━━━━━━━━━━━━━━━━━━━━━━━\u001b[0m \u001b[32m32.8/32.8 MB\u001b[0m \u001b[31m42.6 MB/s\u001b[0m eta \u001b[36m0:00:00\u001b[0m\n",
      "\u001b[?25hRequirement already satisfied: requests>=2.26.0 in /usr/local/lib/python3.9/dist-packages (from SpeechRecognition) (2.27.1)\n",
      "Requirement already satisfied: certifi>=2017.4.17 in /usr/local/lib/python3.9/dist-packages (from requests>=2.26.0->SpeechRecognition) (2022.12.7)\n",
      "Requirement already satisfied: charset-normalizer~=2.0.0 in /usr/local/lib/python3.9/dist-packages (from requests>=2.26.0->SpeechRecognition) (2.0.12)\n",
      "Requirement already satisfied: urllib3<1.27,>=1.21.1 in /usr/local/lib/python3.9/dist-packages (from requests>=2.26.0->SpeechRecognition) (1.26.15)\n",
      "Requirement already satisfied: idna<4,>=2.5 in /usr/local/lib/python3.9/dist-packages (from requests>=2.26.0->SpeechRecognition) (3.4)\n",
      "Installing collected packages: SpeechRecognition\n",
      "Successfully installed SpeechRecognition-3.10.0\n"
     ]
    }
   ],
   "source": [
    "! pip install SpeechRecognition"
   ]
  },
  {
   "cell_type": "code",
   "execution_count": 2,
   "metadata": {
    "id": "sWQ08Ty0x_Ns"
   },
   "outputs": [],
   "source": [
    "import speech_recognition as sr"
   ]
  },
  {
   "cell_type": "code",
   "execution_count": 3,
   "metadata": {
    "colab": {
     "base_uri": "https://localhost:8080/",
     "height": 35
    },
    "id": "JApuJxDKx_Nt",
    "outputId": "b0782d06-3a7f-4434-be5f-ae589d0c3821"
   },
   "outputs": [
    {
     "data": {
      "application/vnd.google.colaboratory.intrinsic+json": {
       "type": "string"
      },
      "text/plain": [
       "'3.10.0'"
      ]
     },
     "execution_count": 3,
     "metadata": {},
     "output_type": "execute_result"
    }
   ],
   "source": [
    "sr.__version__"
   ]
  },
  {
   "cell_type": "markdown",
   "metadata": {
    "id": "4wOk46uex_Nt"
   },
   "source": [
    "### Reading an Audio File in Python"
   ]
  },
  {
   "cell_type": "code",
   "execution_count": null,
   "metadata": {
    "id": "Gps6tIT9x_Nu"
   },
   "outputs": [],
   "source": [
    "# The Recognizer class"
   ]
  },
  {
   "cell_type": "code",
   "execution_count": null,
   "metadata": {
    "id": "LhYqKOywx_Nu"
   },
   "outputs": [],
   "source": [
    "# First, we make an instance of the Recognizer class."
   ]
  },
  {
   "cell_type": "code",
   "execution_count": 8,
   "metadata": {
    "id": "O9jGRiIKx_Nu"
   },
   "outputs": [],
   "source": [
    "r=sr.Recognizer()"
   ]
  },
  {
   "cell_type": "raw",
   "metadata": {
    "id": "CXITJoiTx_Nu"
   },
   "source": [
    "With Recognizer, we have a method for each API-\n",
    "\n",
    "recognize_bing()- Microsoft Bing Speech\n",
    "recognize_google()- Google Web Speech API\n",
    "recognize_google_cloud()- Google Cloud Speech\n",
    "recognize_houndify()- Houndify\n",
    "recognize_ibm()- IBM Speech to Text\n",
    "recognize_sphinx- CMU Sphinx\n",
    "recognize_wit()- Wit.ai\n",
    "Exempting recognize_sphinx(), you need an Internet connection for anything else you’re working with."
   ]
  },
  {
   "cell_type": "markdown",
   "metadata": {
    "id": "rvb8O7Jmx_Nv"
   },
   "source": [
    "### Capturing data with record()"
   ]
  },
  {
   "cell_type": "markdown",
   "metadata": {
    "id": "xJj1bTj_x_Nv"
   },
   "source": [
    "We can have the context manager open the file and read its contents, then record it into an AudioData instance."
   ]
  },
  {
   "cell_type": "code",
   "execution_count": 6,
   "metadata": {
    "id": "eerFq_8sx_Nv"
   },
   "outputs": [],
   "source": [
    "demo=sr.AudioFile('demo.wav')"
   ]
  },
  {
   "cell_type": "code",
   "execution_count": 9,
   "metadata": {
    "id": "57PE0X5Ax_Nw"
   },
   "outputs": [],
   "source": [
    "with demo as source:\n",
    "       audio=r.record(source)"
   ]
  },
  {
   "cell_type": "code",
   "execution_count": 10,
   "metadata": {
    "colab": {
     "base_uri": "https://localhost:8080/"
    },
    "id": "3pTHXcBTx_Nw",
    "outputId": "5b44a197-fa12-4284-e8ce-0905aff65eb1"
   },
   "outputs": [
    {
     "data": {
      "text/plain": [
       "speech_recognition.audio.AudioData"
      ]
     },
     "execution_count": 10,
     "metadata": {},
     "output_type": "execute_result"
    }
   ],
   "source": [
    "# To confirm this, try:\n",
    "type(audio)"
   ]
  },
  {
   "cell_type": "code",
   "execution_count": 11,
   "metadata": {
    "colab": {
     "base_uri": "https://localhost:8080/"
    },
    "id": "b0j7udGHx_Nw",
    "outputId": "b9c45d16-b2ec-46e4-a8a6-aaedbdd716cf"
   },
   "outputs": [
    {
     "data": {
      "text/plain": [
       "<speech_recognition.audio.AudioData at 0x7f805026a700>"
      ]
     },
     "execution_count": 11,
     "metadata": {},
     "output_type": "execute_result"
    }
   ],
   "source": [
    "audio"
   ]
  },
  {
   "cell_type": "markdown",
   "metadata": {
    "id": "5OJb0oOTx_Nx"
   },
   "source": [
    "### Recognizing Speech in the Audio"
   ]
  },
  {
   "cell_type": "markdown",
   "metadata": {
    "id": "w_g0Z8udx_Nx"
   },
   "source": [
    "Finally, you can call recognize_google() to perform the transcription."
   ]
  },
  {
   "cell_type": "code",
   "execution_count": 12,
   "metadata": {
    "colab": {
     "base_uri": "https://localhost:8080/",
     "height": 89
    },
    "id": "l_zfUCTyx_Nx",
    "outputId": "62f7ffbd-cba9-409c-ebc5-9e74b5a80a80"
   },
   "outputs": [
    {
     "data": {
      "application/vnd.google.colaboratory.intrinsic+json": {
       "type": "string"
      },
      "text/plain": [
       "'the Burj canoe slid on the smooth planks glue the sheet to the dark blue background it is easy to tell the depth of a well these days a chicken leg is a rare dish rice is often served in round Bowls the juice of lemons makes fine punch the box was thrown beside the park truck the Hogs are fed chopped corn and garbage 4 hours of steady work faced us a large size and stockings is hard to sell'"
      ]
     },
     "execution_count": 12,
     "metadata": {},
     "output_type": "execute_result"
    }
   ],
   "source": [
    "r.recognize_google(audio)"
   ]
  },
  {
   "cell_type": "code",
   "execution_count": null,
   "metadata": {
    "id": "OUv1vwFQx_Nx"
   },
   "outputs": [],
   "source": [
    "#r.recognize_google_cloud(audio)"
   ]
  },
  {
   "cell_type": "code",
   "execution_count": null,
   "metadata": {
    "id": "vZFiOyuFx_Nx"
   },
   "outputs": [],
   "source": [
    "#Well, you can read audio of a different language using the language parameter-"
   ]
  },
  {
   "cell_type": "code",
   "execution_count": 13,
   "metadata": {
    "colab": {
     "base_uri": "https://localhost:8080/",
     "height": 35
    },
    "id": "UXWLg2Cvx_Ny",
    "outputId": "c82d5ef1-5059-470d-f343-e433eeefc9d4"
   },
   "outputs": [
    {
     "data": {
      "application/vnd.google.colaboratory.intrinsic+json": {
       "type": "string"
      },
      "text/plain": [
       "'după ce backgrounds Voice decis of Lines the Pax 108 the hobby search for our The story face time stacking'"
      ]
     },
     "execution_count": 13,
     "metadata": {},
     "output_type": "execute_result"
    }
   ],
   "source": [
    "r.recognize_google(audio,language='ro-RO') #for Romanian"
   ]
  },
  {
   "cell_type": "code",
   "execution_count": 14,
   "metadata": {
    "colab": {
     "base_uri": "https://localhost:8080/",
     "height": 35
    },
    "id": "6bY0QQQkx_Ny",
    "outputId": "6f477daa-2e12-4200-a0c0-2cf7a9435ca3"
   },
   "outputs": [
    {
     "data": {
      "application/vnd.google.colaboratory.intrinsic+json": {
       "type": "string"
      },
      "text/plain": [
       "'पंचकन्या नेशनल फाइट'"
      ]
     },
     "execution_count": 14,
     "metadata": {},
     "output_type": "execute_result"
    }
   ],
   "source": [
    "r.recognize_google(audio, language='hi-IN')"
   ]
  },
  {
   "cell_type": "markdown",
   "metadata": {
    "id": "WwWQZ6KZx_Ny"
   },
   "source": [
    "#### Reading a Segment of Audio"
   ]
  },
  {
   "cell_type": "code",
   "execution_count": null,
   "metadata": {
    "id": "xWS1zgEYx_Ny"
   },
   "outputs": [],
   "source": []
  },
  {
   "cell_type": "code",
   "execution_count": 10,
   "metadata": {
    "id": "LzZ4acuex_Ny"
   },
   "outputs": [],
   "source": [
    "import os\n",
    "import speech_recognition as sr"
   ]
  },
  {
   "cell_type": "code",
   "execution_count": 8,
   "metadata": {},
   "outputs": [],
   "source": [
    "#sr=speech_recognition.Recognizer()"
   ]
  },
  {
   "cell_type": "code",
   "execution_count": 11,
   "metadata": {},
   "outputs": [],
   "source": [
    "# Specify the path to the audio file\n",
    "audio_file_path = 'demo.wav'\n",
    "\n",
    "# Create an AudioFile object\n",
    "file = sr.AudioFile(audio_file_path)\n",
    "\n"
   ]
  },
  {
   "cell_type": "code",
   "execution_count": 12,
   "metadata": {},
   "outputs": [
    {
     "data": {
      "text/plain": [
       "0"
      ]
     },
     "execution_count": 12,
     "metadata": {},
     "output_type": "execute_result"
    }
   ],
   "source": [
    "# Play the audio file using os.system\n",
    "os.system(f'start {audio_file_path}')"
   ]
  },
  {
   "cell_type": "code",
   "execution_count": 13,
   "metadata": {},
   "outputs": [],
   "source": [
    "r=sr.Recognizer()"
   ]
  },
  {
   "cell_type": "code",
   "execution_count": 14,
   "metadata": {},
   "outputs": [],
   "source": [
    "with file as source:\n",
    "    audio=r.record(source)"
   ]
  },
  {
   "cell_type": "code",
   "execution_count": 15,
   "metadata": {},
   "outputs": [
    {
     "data": {
      "text/plain": [
       "speech_recognition.audio.AudioData"
      ]
     },
     "execution_count": 15,
     "metadata": {},
     "output_type": "execute_result"
    }
   ],
   "source": [
    "type(audio)"
   ]
  },
  {
   "cell_type": "code",
   "execution_count": 23,
   "metadata": {},
   "outputs": [
    {
     "data": {
      "text/plain": [
       "<speech_recognition.audio.AudioData at 0x18d9635c6d0>"
      ]
     },
     "execution_count": 23,
     "metadata": {},
     "output_type": "execute_result"
    }
   ],
   "source": [
    "audio"
   ]
  },
  {
   "cell_type": "code",
   "execution_count": 24,
   "metadata": {},
   "outputs": [],
   "source": [
    "#Recognizing Speech in the Audio"
   ]
  },
  {
   "cell_type": "code",
   "execution_count": 25,
   "metadata": {},
   "outputs": [
    {
     "data": {
      "text/plain": [
       "'the birds can use split on the smooth things clear background makes fine punch the box was done by the park trucks a large size is starting'"
      ]
     },
     "execution_count": 25,
     "metadata": {},
     "output_type": "execute_result"
    }
   ],
   "source": [
    "r.recognize_google(audio)"
   ]
  },
  {
   "cell_type": "code",
   "execution_count": 26,
   "metadata": {},
   "outputs": [
    {
     "data": {
      "text/plain": [
       "'தி படிச்சுக் நியூஸ் வித்'"
      ]
     },
     "execution_count": 26,
     "metadata": {},
     "output_type": "execute_result"
    }
   ],
   "source": [
    "#convert the language from english to tamil\n",
    "r.recognize_google(audio,language=\"ta-IN\")"
   ]
  },
  {
   "cell_type": "code",
   "execution_count": null,
   "metadata": {},
   "outputs": [],
   "source": []
  }
 ],
 "metadata": {
  "colab": {
   "provenance": []
  },
  "kernelspec": {
   "display_name": "Python 3 (ipykernel)",
   "language": "python",
   "name": "python3"
  },
  "language_info": {
   "codemirror_mode": {
    "name": "ipython",
    "version": 3
   },
   "file_extension": ".py",
   "mimetype": "text/x-python",
   "name": "python",
   "nbconvert_exporter": "python",
   "pygments_lexer": "ipython3",
   "version": "3.9.13"
  }
 },
 "nbformat": 4,
 "nbformat_minor": 1
}
