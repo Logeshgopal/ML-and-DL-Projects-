{
 "cells": [
  {
   "cell_type": "code",
   "execution_count": 11,
   "id": "ddb961d8",
   "metadata": {},
   "outputs": [],
   "source": [
    "import cv2\n",
    "import numpy as np\n",
    "import face_recognition as fr"
   ]
  },
  {
   "cell_type": "code",
   "execution_count": 12,
   "id": "9f33b7d9",
   "metadata": {},
   "outputs": [],
   "source": [
    "video_capture=cv2.VideoCapture(0)"
   ]
  },
  {
   "cell_type": "code",
   "execution_count": 16,
   "id": "85f26c7c",
   "metadata": {},
   "outputs": [],
   "source": [
    "image=fr.load_image_file('Logesh.jpg')"
   ]
  },
  {
   "cell_type": "code",
   "execution_count": 18,
   "id": "ce0570d1",
   "metadata": {},
   "outputs": [],
   "source": [
    "image_face_encoding=fr.face_encodings(image)[0]"
   ]
  },
  {
   "cell_type": "code",
   "execution_count": 19,
   "id": "1523bf51",
   "metadata": {},
   "outputs": [],
   "source": [
    "known_face_encodings=[image_face_encoding]"
   ]
  },
  {
   "cell_type": "code",
   "execution_count": 24,
   "id": "89326aae",
   "metadata": {},
   "outputs": [],
   "source": [
    "known_face_names=[\"Logesh\"]"
   ]
  },
  {
   "cell_type": "code",
   "execution_count": null,
   "id": "a5e21243",
   "metadata": {},
   "outputs": [],
   "source": [
    "while True:\n",
    "    ret,frame = video_capture.read()\n",
    "    \n",
    "    rgb_frame=frame[:,:,::-1]\n",
    "    \n",
    "    fc_locations=fr.face_locations(rgb_frame)\n",
    "    face_encodings=fr.face_encodings(rgb_frame,fc_locations)\n",
    "    \n",
    "    for(top,right,bottom,left),face_encoding in zip(fc_locations,face_encodings):\n",
    "        matches=fr.compare_faces(known_face_encodings,face_encoding)\n",
    "        \n",
    "        name=\"unknown\"\n",
    "        \n",
    "        fc_distance= fr.face_distance(known_face_encodings,face_encoding)\n",
    "        \n",
    "        match_index= np.argmin(fc_distance)\n",
    "        \n",
    "        if matches[match_index]:\n",
    "            name = known_face_names[match_index]\n",
    "        \n",
    "        cv2.rectangle(frame,(left,top),(right,bottom),(0,0,255),2)\n",
    "        \n",
    "        cv2.rectangle(frame,(left,bottom - 35),(right,bottom),(0,0,255),cv2.FILLED)\n",
    "        \n",
    "        font=cv2.FONT_HERSHEY_SIMPLEX\n",
    "        \n",
    "        cv2.putText(frame,name,(left +6, bottom -6),font,1.0,(255,255,255),1)\n",
    "        \n",
    "    cv2.imshow('Face Detection System',frame)\n",
    "    \n",
    "    \n",
    "    if cv2.waitKey(1)& 0xFF ==ord('q'):\n",
    "        break\n",
    "\n",
    "video_capture.release()\n",
    "cv2.destroyAllWindows()\n",
    "        \n",
    "    \n",
    "    \n",
    "    "
   ]
  },
  {
   "cell_type": "code",
   "execution_count": null,
   "id": "bbbb0b6d",
   "metadata": {},
   "outputs": [],
   "source": []
  },
  {
   "cell_type": "code",
   "execution_count": null,
   "id": "92efb7e1",
   "metadata": {},
   "outputs": [],
   "source": []
  },
  {
   "cell_type": "code",
   "execution_count": null,
   "id": "1025cd34",
   "metadata": {},
   "outputs": [],
   "source": []
  }
 ],
 "metadata": {
  "kernelspec": {
   "display_name": "Python 3 (ipykernel)",
   "language": "python",
   "name": "python3"
  },
  "language_info": {
   "codemirror_mode": {
    "name": "ipython",
    "version": 3
   },
   "file_extension": ".py",
   "mimetype": "text/x-python",
   "name": "python",
   "nbconvert_exporter": "python",
   "pygments_lexer": "ipython3",
   "version": "3.9.13"
  }
 },
 "nbformat": 4,
 "nbformat_minor": 5
}
